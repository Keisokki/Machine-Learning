{
 "cells": [
  {
   "cell_type": "markdown",
   "id": "603b32f8",
   "metadata": {},
   "source": [
    "Libraries and Dataset"
   ]
  },
  {
   "cell_type": "code",
   "execution_count": 11,
   "id": "321a85c0",
   "metadata": {},
   "outputs": [
    {
     "data": {
      "text/html": [
       "<div>\n",
       "<style scoped>\n",
       "    .dataframe tbody tr th:only-of-type {\n",
       "        vertical-align: middle;\n",
       "    }\n",
       "\n",
       "    .dataframe tbody tr th {\n",
       "        vertical-align: top;\n",
       "    }\n",
       "\n",
       "    .dataframe thead th {\n",
       "        text-align: right;\n",
       "    }\n",
       "</style>\n",
       "<table border=\"1\" class=\"dataframe\">\n",
       "  <thead>\n",
       "    <tr style=\"text-align: right;\">\n",
       "      <th></th>\n",
       "      <th>Fat</th>\n",
       "      <th>Caloric Value</th>\n",
       "      <th>Protein</th>\n",
       "      <th>Vitamin B2</th>\n",
       "      <th>Zinc</th>\n",
       "      <th>Vitamin B3</th>\n",
       "      <th>Iron</th>\n",
       "      <th>Phosphorus</th>\n",
       "      <th>Vitamin B1</th>\n",
       "      <th>Vitamin B5</th>\n",
       "      <th>Potassium</th>\n",
       "      <th>Magnesium</th>\n",
       "      <th>Calcium</th>\n",
       "      <th>Vitamin B6</th>\n",
       "      <th>Fats category</th>\n",
       "    </tr>\n",
       "  </thead>\n",
       "  <tbody>\n",
       "    <tr>\n",
       "      <th>0</th>\n",
       "      <td>0.525154</td>\n",
       "      <td>-0.545865</td>\n",
       "      <td>-0.783925</td>\n",
       "      <td>0.136054</td>\n",
       "      <td>-0.975762</td>\n",
       "      <td>-0.956376</td>\n",
       "      <td>-1.036691</td>\n",
       "      <td>-1.357450</td>\n",
       "      <td>-0.534351</td>\n",
       "      <td>-0.897209</td>\n",
       "      <td>-0.880444</td>\n",
       "      <td>-1.494816</td>\n",
       "      <td>-1.361448</td>\n",
       "      <td>-0.241636</td>\n",
       "      <td>Moderate fats</td>\n",
       "    </tr>\n",
       "    <tr>\n",
       "      <th>1</th>\n",
       "      <td>1.273715</td>\n",
       "      <td>0.494411</td>\n",
       "      <td>0.511160</td>\n",
       "      <td>0.164306</td>\n",
       "      <td>0.429390</td>\n",
       "      <td>-0.715417</td>\n",
       "      <td>-0.988253</td>\n",
       "      <td>0.619481</td>\n",
       "      <td>0.241307</td>\n",
       "      <td>0.408775</td>\n",
       "      <td>0.115237</td>\n",
       "      <td>-0.049408</td>\n",
       "      <td>1.129002</td>\n",
       "      <td>-0.385940</td>\n",
       "      <td>High fats</td>\n",
       "    </tr>\n",
       "    <tr>\n",
       "      <th>2</th>\n",
       "      <td>0.316654</td>\n",
       "      <td>-0.571698</td>\n",
       "      <td>-0.838223</td>\n",
       "      <td>-1.108980</td>\n",
       "      <td>-1.127832</td>\n",
       "      <td>-1.162341</td>\n",
       "      <td>-1.278404</td>\n",
       "      <td>-1.389491</td>\n",
       "      <td>-1.061099</td>\n",
       "      <td>-1.154499</td>\n",
       "      <td>-1.830420</td>\n",
       "      <td>-1.512822</td>\n",
       "      <td>-1.365888</td>\n",
       "      <td>-1.163423</td>\n",
       "      <td>Low fats</td>\n",
       "    </tr>\n",
       "    <tr>\n",
       "      <th>3</th>\n",
       "      <td>-0.061433</td>\n",
       "      <td>-0.875474</td>\n",
       "      <td>-0.518231</td>\n",
       "      <td>-0.686236</td>\n",
       "      <td>-0.990749</td>\n",
       "      <td>-1.058034</td>\n",
       "      <td>-0.996220</td>\n",
       "      <td>-1.380782</td>\n",
       "      <td>-0.744215</td>\n",
       "      <td>-1.071604</td>\n",
       "      <td>-0.596099</td>\n",
       "      <td>-1.450942</td>\n",
       "      <td>-1.314331</td>\n",
       "      <td>-1.081800</td>\n",
       "      <td>Low fats</td>\n",
       "    </tr>\n",
       "    <tr>\n",
       "      <th>4</th>\n",
       "      <td>0.027751</td>\n",
       "      <td>-0.875474</td>\n",
       "      <td>-0.639961</td>\n",
       "      <td>-0.700666</td>\n",
       "      <td>-0.924340</td>\n",
       "      <td>-0.965522</td>\n",
       "      <td>-1.253168</td>\n",
       "      <td>-0.116291</td>\n",
       "      <td>0.049178</td>\n",
       "      <td>-0.687928</td>\n",
       "      <td>-0.512859</td>\n",
       "      <td>-0.987048</td>\n",
       "      <td>0.351474</td>\n",
       "      <td>-1.128114</td>\n",
       "      <td>Low fats</td>\n",
       "    </tr>\n",
       "  </tbody>\n",
       "</table>\n",
       "</div>"
      ],
      "text/plain": [
       "        Fat  Caloric Value   Protein  Vitamin B2      Zinc  Vitamin B3  \\\n",
       "0  0.525154      -0.545865 -0.783925    0.136054 -0.975762   -0.956376   \n",
       "1  1.273715       0.494411  0.511160    0.164306  0.429390   -0.715417   \n",
       "2  0.316654      -0.571698 -0.838223   -1.108980 -1.127832   -1.162341   \n",
       "3 -0.061433      -0.875474 -0.518231   -0.686236 -0.990749   -1.058034   \n",
       "4  0.027751      -0.875474 -0.639961   -0.700666 -0.924340   -0.965522   \n",
       "\n",
       "       Iron  Phosphorus  Vitamin B1  Vitamin B5  Potassium  Magnesium  \\\n",
       "0 -1.036691   -1.357450   -0.534351   -0.897209  -0.880444  -1.494816   \n",
       "1 -0.988253    0.619481    0.241307    0.408775   0.115237  -0.049408   \n",
       "2 -1.278404   -1.389491   -1.061099   -1.154499  -1.830420  -1.512822   \n",
       "3 -0.996220   -1.380782   -0.744215   -1.071604  -0.596099  -1.450942   \n",
       "4 -1.253168   -0.116291    0.049178   -0.687928  -0.512859  -0.987048   \n",
       "\n",
       "    Calcium  Vitamin B6  Fats category  \n",
       "0 -1.361448   -0.241636  Moderate fats  \n",
       "1  1.129002   -0.385940      High fats  \n",
       "2 -1.365888   -1.163423       Low fats  \n",
       "3 -1.314331   -1.081800       Low fats  \n",
       "4  0.351474   -1.128114       Low fats  "
      ]
     },
     "execution_count": 11,
     "metadata": {},
     "output_type": "execute_result"
    }
   ],
   "source": [
    "# Libraries\n",
    "import pandas as pd\n",
    "import numpy as np\n",
    "from sklearn.model_selection import train_test_split\n",
    "from sklearn.preprocessing import StandardScaler\n",
    "from sklearn.ensemble import RandomForestClassifier\n",
    "from sklearn.metrics import accuracy_score, precision_score, recall_score, f1_score\n",
    "\n",
    "# Dataset\n",
    "file_path =\"final_data.csv\"\n",
    "data = pd.read_csv(file_path)\n",
    "\n",
    "# Menampilkan 5 data teratas\n",
    "data.head()"
   ]
  },
  {
   "cell_type": "markdown",
   "id": "d81fd334",
   "metadata": {},
   "source": [
    "EDA\n",
    "\n"
   ]
  },
  {
   "cell_type": "code",
   "execution_count": 12,
   "id": "6658c4ce",
   "metadata": {},
   "outputs": [
    {
     "name": "stdout",
     "output_type": "stream",
     "text": [
      "\n",
      "Data Info:\n",
      "Null values:\n",
      " Fat              0\n",
      "Caloric Value    0\n",
      "Protein          0\n",
      "Vitamin B2       0\n",
      "Zinc             0\n",
      "Vitamin B3       0\n",
      "Iron             0\n",
      "Phosphorus       0\n",
      "Vitamin B1       0\n",
      "Vitamin B5       0\n",
      "Potassium        0\n",
      "Magnesium        0\n",
      "Calcium          0\n",
      "Vitamin B6       0\n",
      "Fats category    0\n",
      "dtype: int64\n",
      "\n",
      "Data types:\n",
      " Fat              float64\n",
      "Caloric Value    float64\n",
      "Protein          float64\n",
      "Vitamin B2       float64\n",
      "Zinc             float64\n",
      "Vitamin B3       float64\n",
      "Iron             float64\n",
      "Phosphorus       float64\n",
      "Vitamin B1       float64\n",
      "Vitamin B5       float64\n",
      "Potassium        float64\n",
      "Magnesium        float64\n",
      "Calcium          float64\n",
      "Vitamin B6       float64\n",
      "Fats category     object\n",
      "dtype: object\n",
      "\n",
      "Summary statistics:\n",
      "                Fat  Caloric Value       Protein    Vitamin B2          Zinc  \\\n",
      "count  2395.000000   2.395000e+03  2.395000e+03  2.395000e+03  2.395000e+03   \n",
      "mean      0.000000  -2.017407e-16  1.661394e-16  2.966776e-17 -2.254749e-16   \n",
      "std       1.000209   1.000209e+00  1.000209e+00  1.000209e+00  1.000209e+00   \n",
      "min      -1.331157  -2.552805e+00 -1.472981e+00 -1.108980e+00 -1.127832e+00   \n",
      "25%      -0.982991  -6.332755e-01 -8.382234e-01 -9.601052e-01 -9.171230e-01   \n",
      "50%      -0.030420   2.743579e-02 -1.264833e-03 -1.638856e-01 -2.233784e-01   \n",
      "75%       0.900719   6.424871e-01  8.369052e-01  8.803425e-01  8.732733e-01   \n",
      "max       2.243984   3.915814e+00  2.426004e+00  2.103646e+00  1.969888e+00   \n",
      "\n",
      "         Vitamin B3          Iron    Phosphorus    Vitamin B1    Vitamin B5  \\\n",
      "count  2.395000e+03  2.395000e+03  2.395000e+03  2.395000e+03  2.395000e+03   \n",
      "mean  -1.780065e-17 -3.560131e-17 -1.068039e-16  4.153486e-17 -2.195414e-16   \n",
      "std    1.000209e+00  1.000209e+00  1.000209e+00  1.000209e+00  1.000209e+00   \n",
      "min   -1.162341e+00 -1.278404e+00 -1.389491e+00 -1.061099e+00 -1.154499e+00   \n",
      "25%   -9.770411e-01 -9.882525e-01 -1.170181e+00 -9.738733e-01 -9.158034e-01   \n",
      "50%   -1.328475e-01 -6.360003e-02  1.505918e-01 -1.906578e-01 -3.216394e-01   \n",
      "75%    8.773021e-01  8.433763e-01  8.019515e-01  9.709254e-01  8.348052e-01   \n",
      "max    1.998810e+00  2.160523e+00  2.674324e+00  2.128362e+00  2.043305e+00   \n",
      "\n",
      "          Potassium     Magnesium       Calcium    Vitamin B6  \n",
      "count  2.395000e+03  2.395000e+03  2.395000e+03  2.395000e+03  \n",
      "mean   2.195414e-16  5.933551e-17  4.746841e-17  5.933551e-17  \n",
      "std    1.000209e+00  1.000209e+00  1.000209e+00  1.000209e+00  \n",
      "min   -1.830420e+00 -1.512822e+00 -1.365888e+00 -1.163423e+00  \n",
      "25%   -6.415876e-01 -9.031705e-01 -1.104774e+00 -8.418532e-01  \n",
      "50%    3.839076e-02  6.410728e-02  1.137602e-01 -2.727431e-01  \n",
      "75%    6.933966e-01  7.949066e-01  7.525266e-01  8.286039e-01  \n",
      "max    3.632682e+00  2.590369e+00  2.446291e+00  2.048140e+00  \n"
     ]
    },
    {
     "data": {
      "image/png": "[encoded data removed]",
      "text/plain": [
       "<Figure size 800x600 with 1 Axes>"
      ]
     },
     "metadata": {},
     "output_type": "display_data"
    }
   ],
   "source": [
    "# Mengechek Nilai Kosong (Null Values) dan Tipe Data\n",
    "print(\"\\nData Info:\")\n",
    "print(\"Null values:\\n\", data.isnull().sum())\n",
    "print(\"\\nData types:\\n\", data.dtypes)\n",
    "\n",
    "# Ringkasan Statistik\n",
    "print(\"\\nSummary statistics:\\n\", data.describe())\n",
    "\n",
    "# Visualisasi Distribusi Kategori Lemak\n",
    "import matplotlib.pyplot as plt\n",
    "import seaborn as sns\n",
    "\n",
    "plt.figure(figsize=(8, 6))\n",
    "sns.countplot(x='Fats category', data=data)\n",
    "plt.title('Distribution of Fats Category')\n",
    "plt.show()"
   ]
  },
  {
   "cell_type": "markdown",
   "id": "eefa2188",
   "metadata": {},
   "source": [
    "Data Preprocessing"
   ]
  },
  {
   "cell_type": "code",
   "execution_count": 13,
   "id": "6e29675d",
   "metadata": {},
   "outputs": [],
   "source": [
    "# Handle missing values (if any)\n",
    "data = data.dropna()\n",
    "\n",
    "# Encode categorical variables (already encoded in the dataset)\n",
    "\n",
    "# Separate features and target variable\n",
    "# Drop the 'Fats category' column to use the remaining columns as features\n",
    "X = data.drop(['Fats category'], axis=1)\n",
    "\n",
    "# Encode the target variable (e.g., 'Low fats' as True, others as False)\n",
    "y = data['Fats category'] == 'Low fats'\n",
    "\n",
    "# Normalize/scale numerical features\n",
    "scaler = StandardScaler()\n",
    "X_scaled = scaler.fit_transform(X)"
   ]
  },
  {
   "cell_type": "markdown",
   "id": "8b2072a3",
   "metadata": {},
   "source": [
    "Split Dataset (Traning test and Testing test)\n"
   ]
  },
  {
   "cell_type": "code",
   "execution_count": 14,
   "id": "7f03499b",
   "metadata": {},
   "outputs": [
    {
     "name": "stdout",
     "output_type": "stream",
     "text": [
      "Training set size: 1676 samples\n",
      "Testing set size: 719 samples\n"
     ]
    }
   ],
   "source": [
    "# Split the dataset\n",
    "X_train, X_test, y_train, y_test = train_test_split(X_scaled, y, test_size=0.3, random_state=42)\n",
    "\n",
    "print(f\"Training set size: {X_train.shape[0]} samples\")\n",
    "print(f\"Testing set size: {X_test.shape[0]} samples\")"
   ]
  },
  {
   "cell_type": "markdown",
   "id": "d5295c9a",
   "metadata": {},
   "source": [
    "Train a Machine Learning Model"
   ]
  },
  {
   "cell_type": "code",
   "execution_count": 15,
   "id": "e75e3045",
   "metadata": {},
   "outputs": [
    {
     "name": "stdout",
     "output_type": "stream",
     "text": [
      "Model training completed.\n"
     ]
    }
   ],
   "source": [
    "# Train a Random Forest Classifier\n",
    "model = RandomForestClassifier(random_state=42)\n",
    "model.fit(X_train, y_train)\n",
    "\n",
    "print(\"Model training completed.\")"
   ]
  },
  {
   "cell_type": "markdown",
   "id": "16b6a2b0",
   "metadata": {},
   "source": [
    "Evaluate the Model"
   ]
  },
  {
   "cell_type": "code",
   "execution_count": 16,
   "id": "8d637f3e",
   "metadata": {},
   "outputs": [],
   "source": [
    "# Make predictions\n",
    "y_pred = model.predict(X_test)\n",
    "\n",
    "# Evaluate the model\n",
    "accuracy = accuracy_score(y_test, y_pred)\n",
    "precision = precision_score(y_test, y_pred)\n",
    "recall = recall_score(y_test, y_pred)\n",
    "f1 = f1_score(y_test, y_pred)\n"
   ]
  },
  {
   "cell_type": "code",
   "execution_count": 17,
   "id": "ff89d312",
   "metadata": {},
   "outputs": [
    {
     "data": {
      "image/png": "[encoded data removed]",
      "text/plain": [
       "<Figure size 640x480 with 2 Axes>"
      ]
     },
     "metadata": {},
     "output_type": "display_data"
    },
    {
     "name": "stdout",
     "output_type": "stream",
     "text": [
      "Accuracy: 1.00\n",
      "Precision: 1.00\n",
      "Recall: 1.00\n",
      "F1-score: 1.00\n"
     ]
    }
   ],
   "source": [
    "# Import confusion matrix and display\n",
    "from sklearn.metrics import confusion_matrix, ConfusionMatrixDisplay\n",
    "\n",
    "# Compute confusion matrix\n",
    "cm = confusion_matrix(y_test, y_pred)\n",
    "\n",
    "# Display confusion matrix\n",
    "disp = ConfusionMatrixDisplay(confusion_matrix=cm, display_labels=model.classes_)\n",
    "disp.plot(cmap='Blues')\n",
    "plt.title(\"Confusion Matrix\")\n",
    "plt.show()\n",
    "\n",
    "print(f\"Accuracy: {accuracy:.2f}\")\n",
    "print(f\"Precision: {precision:.2f}\")\n",
    "print(f\"Recall: {recall:.2f}\")\n",
    "print(f\"F1-score: {f1:.2f}\")"
   ]
  },
  {
   "cell_type": "markdown",
   "id": "66274250",
   "metadata": {},
   "source": [
    "Pickle Model\n"
   ]
  },
  {
   "cell_type": "code",
   "execution_count": 18,
   "id": "2a6b532c",
   "metadata": {},
   "outputs": [
    {
     "name": "stdout",
     "output_type": "stream",
     "text": [
      "Model saved to mlModel.pkl\n"
     ]
    }
   ],
   "source": [
    "import pickle\n",
    "\n",
    "# Save the trained model to a file 'mlModel.pkl'\n",
    "model_filename = \"mlModel.pkl\"\n",
    "with open(model_filename, \"wb\") as file:\n",
    "    pickle.dump(model, file)\n",
    "\n",
    "print(f\"Model saved to {model_filename}\")"
   ]
  }
 ],
 "metadata": {
  "kernelspec": {
   "display_name": "Python 3",
   "language": "python",
   "name": "python3"
  },
  "language_info": {
   "codemirror_mode": {
    "name": "ipython",
    "version": 3
   },
   "file_extension": ".py",
   "mimetype": "text/x-python",
   "name": "python",
   "nbconvert_exporter": "python",
   "pygments_lexer": "ipython3",
   "version": "3.12.8"
  }
 },
 "nbformat": 4,
 "nbformat_minor": 5
}
