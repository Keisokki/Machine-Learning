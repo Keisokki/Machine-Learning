{
 "cells": [
  {
   "cell_type": "markdown",
   "id": "1262636b",
   "metadata": {},
   "source": [
    "Libraries and Dataset\n"
   ]
  },
  {
   "cell_type": "code",
   "execution_count": 30,
   "id": "1f5c98c8",
   "metadata": {},
   "outputs": [
    {
     "name": "stdout",
     "output_type": "stream",
     "text": [
      "        Fat  Caloric Value   Protein  Vitamin B2      Zinc  Vitamin B3  \\\n",
      "0  0.525154      -0.545865 -0.783925    0.136054 -0.975762   -0.956376   \n",
      "1  1.273715       0.494411  0.511160    0.164306  0.429390   -0.715417   \n",
      "2  0.316654      -0.571698 -0.838223   -1.108980 -1.127832   -1.162341   \n",
      "3 -0.061433      -0.875474 -0.518231   -0.686236 -0.990749   -1.058034   \n",
      "4  0.027751      -0.875474 -0.639961   -0.700666 -0.924340   -0.965522   \n",
      "\n",
      "       Iron  Phosphorus  Vitamin B1  Vitamin B5  Potassium  Magnesium  \\\n",
      "0 -1.036691   -1.357450   -0.534351   -0.897209  -0.880444  -1.494816   \n",
      "1 -0.988253    0.619481    0.241307    0.408775   0.115237  -0.049408   \n",
      "2 -1.278404   -1.389491   -1.061099   -1.154499  -1.830420  -1.512822   \n",
      "3 -0.996220   -1.380782   -0.744215   -1.071604  -0.596099  -1.450942   \n",
      "4 -1.253168   -0.116291    0.049178   -0.687928  -0.512859  -0.987048   \n",
      "\n",
      "    Calcium  Vitamin B6 Fat Category  \n",
      "0 -1.361448   -0.241636    High fats  \n",
      "1  1.129002   -0.385940    High fats  \n",
      "2 -1.365888   -1.163423    High fats  \n",
      "3 -1.314331   -1.081800    High fats  \n",
      "4  0.351474   -1.128114    High fats  \n"
     ]
    }
   ],
   "source": [
    "# Libraries\n",
    "import pandas as pd\n",
    "import numpy as np\n",
    "from sklearn.model_selection import train_test_split\n",
    "from sklearn.preprocessing import StandardScaler\n",
    "from sklearn.ensemble import RandomForestClassifier\n",
    "from sklearn.metrics import accuracy_score, precision_score, recall_score, f1_score\n",
    "\n",
    "# Dataset\n",
    "file_path =\"final_data_revised.csv\"\n",
    "data = pd.read_csv(file_path)\n",
    "print(data.head())  # Check if the data is loaded"
   ]
  },
  {
   "cell_type": "markdown",
   "id": "4bde4c0b",
   "metadata": {},
   "source": [
    "Data Preprocessing"
   ]
  },
  {
   "cell_type": "code",
   "execution_count": 31,
   "id": "457d210b",
   "metadata": {},
   "outputs": [],
   "source": [
    "# Data Preprocessing\n",
    "\n",
    "# Handle missing values (if any)\n",
    "data = data.dropna()\n",
    "\n",
    "# Encode categorical variables\n",
    "from sklearn.preprocessing import LabelEncoder\n",
    "label_encoder = LabelEncoder()\n",
    "data['Fat Category'] = label_encoder.fit_transform(data['Fat Category'])\n",
    "\n",
    "# Separate features and target variable\n",
    "X = data.drop(columns=['Fat Category'])\n",
    "y = data['Fat Category']\n",
    "\n",
    "# Scale numerical features\n",
    "scaler = StandardScaler()\n",
    "X_scaled = scaler.fit_transform(X)"
   ]
  },
  {
   "cell_type": "markdown",
   "id": "4794629a",
   "metadata": {},
   "source": [
    "Split Dataset\n"
   ]
  },
  {
   "cell_type": "code",
   "execution_count": 32,
   "id": "e3195801",
   "metadata": {},
   "outputs": [
    {
     "name": "stdout",
     "output_type": "stream",
     "text": [
      "Training set size: 1676 samples\n",
      "Testing set size: 719 samples\n"
     ]
    }
   ],
   "source": [
    "# Split Dataset\n",
    "X_train, X_test, y_train, y_test = train_test_split(X_scaled, y, test_size=0.3, random_state=42, stratify=y)\n",
    "\n",
    "print(f\"Training set size: {X_train.shape[0]} samples\")\n",
    "print(f\"Testing set size: {X_test.shape[0]} samples\")"
   ]
  },
  {
   "cell_type": "markdown",
   "id": "ec1ccd91",
   "metadata": {},
   "source": [
    "Train Machine Learning Model"
   ]
  },
  {
   "cell_type": "code",
   "execution_count": 33,
   "id": "8cd56e2e",
   "metadata": {},
   "outputs": [
    {
     "name": "stdout",
     "output_type": "stream",
     "text": [
      "Model training completed.\n"
     ]
    }
   ],
   "source": [
    "# Train Machine Learning Model\n",
    "model = RandomForestClassifier(random_state=42)\n",
    "model.fit(X_train, y_train)\n",
    "\n",
    "print(\"Model training completed.\")"
   ]
  },
  {
   "cell_type": "markdown",
   "id": "d7d612aa",
   "metadata": {},
   "source": [
    "Evaluate"
   ]
  },
  {
   "cell_type": "code",
   "execution_count": 34,
   "id": "04cf7626",
   "metadata": {},
   "outputs": [
    {
     "data": {
      "image/png": "[encoded data removed]",
      "text/plain": [
       "<Figure size 640x480 with 2 Axes>"
      ]
     },
     "metadata": {},
     "output_type": "display_data"
    },
    {
     "name": "stdout",
     "output_type": "stream",
     "text": [
      "Model Performance:\n",
      "Accuracy: 0.94\n",
      "Precision: 0.94\n",
      "Recall: 0.94\n",
      "F1-Score: 0.94\n"
     ]
    }
   ],
   "source": [
    "# Evaluate Model Performance\n",
    "y_pred = model.predict(X_test)\n",
    "\n",
    "accuracy = accuracy_score(y_test, y_pred)\n",
    "precision = precision_score(y_test, y_pred, average='weighted')\n",
    "recall = recall_score(y_test, y_pred, average='weighted')\n",
    "f1 = f1_score(y_test, y_pred, average='weighted')\n",
    "\n",
    "\n",
    "# Import confusion matrix and display\n",
    "from sklearn.metrics import confusion_matrix, ConfusionMatrixDisplay\n",
    "import matplotlib.pyplot as plt\n",
    "\n",
    "# Compute confusion matrix\n",
    "cm = confusion_matrix(y_test, y_pred)\n",
    "\n",
    "# Display confusion matrix\n",
    "disp = ConfusionMatrixDisplay(confusion_matrix=cm, display_labels=model.classes_)\n",
    "disp.plot(cmap='Blues')\n",
    "plt.title(\"Confusion Matrix\")\n",
    "plt.show()\n",
    "\n",
    "\n",
    "print(\"Model Performance:\")\n",
    "print(f\"Accuracy: {accuracy:.2f}\")\n",
    "print(f\"Precision: {precision:.2f}\")\n",
    "print(f\"Recall: {recall:.2f}\")\n",
    "print(f\"F1-Score: {f1:.2f}\")"
   ]
  },
  {
   "cell_type": "markdown",
   "id": "ec444404",
   "metadata": {},
   "source": [
    "Save model to pickle\n"
   ]
  },
  {
   "cell_type": "code",
   "execution_count": 35,
   "id": "c8c6924a",
   "metadata": {},
   "outputs": [
    {
     "name": "stdout",
     "output_type": "stream",
     "text": [
      "Model saved to mlModel_Revised(2).pkl\n"
     ]
    }
   ],
   "source": [
    "import pickle\n",
    "\n",
    "# Save the trained model to a file 'mlModel_Revised(2).pkl'\n",
    "model_filename = \"mlModel_Revised(2).pkl\"\n",
    "with open(model_filename, \"wb\") as file:\n",
    "    pickle.dump(model, file)\n",
    "\n",
    "print(f\"Model saved to {model_filename}\")"
   ]
  }
 ],
 "metadata": {
  "kernelspec": {
   "display_name": "Python 3",
   "language": "python",
   "name": "python3"
  },
  "language_info": {
   "codemirror_mode": {
    "name": "ipython",
    "version": 3
   },
   "file_extension": ".py",
   "mimetype": "text/x-python",
   "name": "python",
   "nbconvert_exporter": "python",
   "pygments_lexer": "ipython3",
   "version": "3.12.8"
  }
 },
 "nbformat": 4,
 "nbformat_minor": 5
}
